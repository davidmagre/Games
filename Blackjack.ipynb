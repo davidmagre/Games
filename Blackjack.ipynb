{
 "cells": [
  {
   "cell_type": "code",
   "execution_count": null,
   "metadata": {},
   "outputs": [],
   "source": [
    "import random\n",
    "\n",
    "def draw_card():\n",
    "    cards = [\"2\", \"3\", \"4\", \"5\", \"6\", \"7\", \"8\", \"9\", \"10\", \"J\", \"Q\", \"K\", \"A\"]\n",
    "    return random.choice(cards)\n",
    "\n",
    "def calculate_score(hand):\n",
    "    score = sum([11 if card == \"A\" else 10 if card in [\"K\", \"Q\", \"J\"] else int(card) for card in hand])\n",
    "    if \"A\" in hand and score > 21:\n",
    "        score -= 10  # If there is an Ace and the score is over 21, treat Ace as 1\n",
    "    return score\n",
    "\n",
    "def blackjack():\n",
    "    player_hand = [draw_card(), draw_card()]\n",
    "    dealer_hand = [draw_card()]\n",
    "\n",
    "    print(\"Welcome to Blackjack!\")\n",
    "\n",
    "    while True:\n",
    "        print(f\"\\nYour cards: {player_hand}, current score: {calculate_score(player_hand)}\", flush=True)\n",
    "        print(f\"Dealer's first card: {dealer_hand[0]}\", flush=True)\n",
    "\n",
    "        if calculate_score(player_hand) == 21:\n",
    "            print(\"Blackjack! You win!\", flush=True)\n",
    "            break\n",
    "\n",
    "        action = input(\"Type 'y' to get another card, 'n' to pass: \").lower()\n",
    "\n",
    "        if action == 'y':\n",
    "            player_hand.append(draw_card())\n",
    "            if calculate_score(player_hand) > 21:\n",
    "                print(f\"Your cards: {player_hand}, current score: {calculate_score(player_hand)}\", flush=True)\n",
    "                print(\"Bust! You went over 21. You lose.\", flush=True)\n",
    "                break\n",
    "        elif action == 'n':\n",
    "            while calculate_score(dealer_hand) < 17:\n",
    "                dealer_hand.append(draw_card())\n",
    "\n",
    "            print(f\"\\nYour final hand: {player_hand}, final score: {calculate_score(player_hand)}\", flush=True)\n",
    "            print(f\"Dealer's final hand: {dealer_hand}, final score: {calculate_score(dealer_hand)}\", flush=True)\n",
    "\n",
    "            if calculate_score(dealer_hand) > 21:\n",
    "                print(\"Dealer busts! You win!\", flush=True)\n",
    "            elif calculate_score(player_hand) > calculate_score(dealer_hand):\n",
    "                print(\"You win!\", flush=True)\n",
    "            elif calculate_score(player_hand) < calculate_score(dealer_hand):\n",
    "                print(\"You lose.\", flush=True)\n",
    "            else:\n",
    "                print(\"It's a draw!... So technically, the house wins 😒\", flush=True)\n",
    "            break\n",
    "        else:\n",
    "            print(\"Invalid input. Type 'y' or 'n'.\")\n",
    "\n",
    "blackjack()"
   ]
  }
 ],
 "metadata": {
  "kernelspec": {
   "display_name": "Ironhack",
   "language": "python",
   "name": "python3"
  },
  "language_info": {
   "name": "python",
   "version": "3.11.7"
  }
 },
 "nbformat": 4,
 "nbformat_minor": 2
}
